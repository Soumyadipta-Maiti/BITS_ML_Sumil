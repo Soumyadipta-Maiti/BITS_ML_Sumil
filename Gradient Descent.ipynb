{
 "cells": [
  {
   "cell_type": "code",
   "execution_count": 30,
   "id": "929fc972",
   "metadata": {},
   "outputs": [],
   "source": [
    "import numpy as np\n",
    "import pandas as pd\n",
    "#import statsmodels as sm\n",
    "from sympy import *"
   ]
  },
  {
   "cell_type": "code",
   "execution_count": 102,
   "id": "a177ab8e",
   "metadata": {},
   "outputs": [
    {
     "data": {
      "application/javascript": [
       "IPython.OutputArea.prototype._should_scroll = function(lines) {\n",
       "    return false;\n",
       "}\n"
      ],
      "text/plain": [
       "<IPython.core.display.Javascript object>"
      ]
     },
     "metadata": {},
     "output_type": "display_data"
    }
   ],
   "source": [
    "%%javascript\n",
    "IPython.OutputArea.prototype._should_scroll = function(lines) {\n",
    "    return false;\n",
    "}"
   ]
  },
  {
   "cell_type": "code",
   "execution_count": 132,
   "id": "1f43305c",
   "metadata": {},
   "outputs": [],
   "source": [
    "class GradientDescent:\n",
    "    def __init__(self, **kwargs):\n",
    "        self.model = kwargs.get('model')\n",
    "        self.data = kwargs.get('data')\n",
    "        self.regularization = kwargs.get('regularization')\n",
    "        self.n_iter = kwargs.get('n_iter') if kwargs.get('n_iter') else 5\n",
    "        self.theta_init = kwargs.get('theta_init')\n",
    "        self.alpha = kwargs.get('alpha') if kwargs.get('alpha') else 0.01\n",
    "        self.lambda_ = kwargs.get('lambda_') if kwargs.get('lambda_') else 0.01\n",
    "    \n",
    "    def run(self):\n",
    "        self.X = self.data.iloc[:,:-1]\n",
    "        self.y = self.data.iloc[:,-1]\n",
    "        self.X.insert(0, 'X0', np.ones(self.X.shape[0]))\n",
    "        #display(self.X)\n",
    "        \n",
    "        if not self.theta_init:\n",
    "            n = self.X.shape[1] if len(X.shape) == 2 else 1\n",
    "            self.theta_init = np.zeros(n)\n",
    "            \n",
    "        if self.model == 'Linear Regression':\n",
    "            self.run_linear_reg()\n",
    "        else:\n",
    "            self.run_log_reg()\n",
    "            \n",
    "    def run_log_reg(self):\n",
    "        print('Running Gradient descent for Logictic Regression')\n",
    "        m, n = self.X.shape\n",
    "        display(Eq(MatrixSymbol(f'theta_{0}', n,1), Matrix(self.theta_init)))\n",
    "        theta = np.array(self.theta_init)\n",
    "        for i in range(self.n_iter):\n",
    "            print(f'\\nIteration : {i+1}')\n",
    "            h = self.sigmoid(self.X @ theta)\n",
    "            display(Eq(MatrixSymbol('\\nh_{\\u03B8}(x)', n, 1), Matrix(h)))\n",
    "            theta = self.gd_update(h,m, theta)\n",
    "            display(Eq(MatrixSymbol(f'theta_{i+1}', n,1), Matrix(theta)))\n",
    "            print(f'\\nLoss J(\\u03B8) = {self.logistic_regression_loss(theta)}')\n",
    "            print('\\n===============================================')\n",
    "        return theta\n",
    "    \n",
    "    def gd_update(self, h, m, theta):\n",
    "        if not self.regularization:\n",
    "            return theta - (self.alpha/m) * (self.X.T @ (h - self.y))\n",
    "        \n",
    "        elif self.regularization in ['L1', 'Lasso']:\n",
    "            theta[0] = theta[0] - (self.alpha/m) * np.sum((h - self.y) * self.X.iloc[:, 0])\n",
    "            theta[1:] = theta[1:] - (self.alpha/m)* (self.X.iloc[:,1:].T @ (h - self.y)\n",
    "            + self.lambda_*np.sign(theta[1:]))\n",
    "            \n",
    "        \n",
    "        elif self.regularization in ['L2', 'Ridge']:\n",
    "            theta[0] = theta[0] - (self.alpha/m) * np.sum((h - self.y) * self.X.iloc[:, 0])\n",
    "\n",
    "            theta[1:] = theta[1:] - (self.alpha/m)* (self.X.iloc[:,1:].T @ (h - self.y) \n",
    "            + self.lambda_*theta[1:])\n",
    "        return theta\n",
    "    \n",
    "\n",
    "    # Sigmoid function\n",
    "    def sigmoid(self, z):\n",
    "        return 1/(1 + np.exp(-z))\n",
    "\n",
    "    # Loss function for logistic regression\n",
    "    def logistic_regression_loss(self, theta):\n",
    "        m, n = self.X.shape\n",
    "        h = self.sigmoid(self.X @ theta)\n",
    "        if not self.regularization:\n",
    "            loss = (1/m) * (-self.y.T @ np.log(h) - (1 - self.y).T @ np.log(1 - h))\n",
    "        \n",
    "        elif self.regularization in ['L1', 'Lasso']:\n",
    "            loss = (1/m) * (-self.y.T @ np.log(h) - (1 - self.y).T @ np.log(1 - h)) \n",
    "            + (self.lambda_/m) * np.sum(np.abs(theta[1:]))\n",
    "\n",
    "        \n",
    "        elif self.regularization in ['L2', 'Ridge']:\n",
    "            loss = (1/m) * (-self.y.T @ np.log(h) - (1 - self.y).T @ np.log(1 - h)) \n",
    "            + (self.lambda_/(2*m)) * np.sum(theta[1:]**2)\n",
    "        \n",
    "        return loss\n",
    "        \n",
    "    def run_linear_reg(self):\n",
    "        print('Running Gradient descent for Linear Regression')\n",
    "        m = self.X.shape[0]\n",
    "        n = self.X.shape[1] if len(self.X.shape) == 2 else 1\n",
    "        #print(m, self.alpha)\n",
    "        display(Eq(MatrixSymbol(f'theta_{0}', n,1), Matrix(self.theta_init)))\n",
    "        theta = np.array(self.theta_init)\n",
    "        for i in range(self.n_iter):\n",
    "            print(f'\\nIteration : {i+1}')\n",
    "            h = self.X @ theta\n",
    "            display(Eq(MatrixSymbol('\\nh_{\\u03B8}(x)', n, 1), Matrix(h)))\n",
    "            #print(h)\n",
    "            theta = self.gd_update(h,m, theta)\n",
    "            \n",
    "            display(Eq(MatrixSymbol(f'theta_{i+1}', n,1), Matrix(theta)))\n",
    "            print(f'\\nLoss J(\\u03B8) = {self.linear_regression_loss(theta)}')\n",
    "            print('\\n===============================================')\n",
    "        return theta\n",
    "    \n",
    "    def linear_regression_loss(self, theta):\n",
    "        m = self.X.shape[0]\n",
    "        n = self.X.shape[1] if len(self.X.shape) == 2 else 1\n",
    "        h = self.X @ theta\n",
    "        if not self.regularization:\n",
    "            loss = (1/(2*m)) * np.sum((h - self.y)**2)\n",
    "        \n",
    "        elif self.regularization in ['L1', 'Lasso']:\n",
    "            loss = (1/(2*m)) * np.sum((h - self.y)**2) + (self.lambda_/m) * np.sum(np.abs(theta[1:]))\n",
    "            \n",
    "        \n",
    "        elif self.regularization in ['L2', 'Ridge']:\n",
    "            loss = (1/(2*m)) * np.sum((h - self.y)**2) + (self.lambda_/(2*m)) * np.sum(theta[1:]**2)\n",
    "        \n",
    "        \n",
    "        \n",
    "        return loss\n"
   ]
  },
  {
   "cell_type": "markdown",
   "id": "da3bd2b8",
   "metadata": {},
   "source": [
    "## Linear Regression Without Regularization"
   ]
  },
  {
   "cell_type": "code",
   "execution_count": 122,
   "id": "8c66c206",
   "metadata": {
    "scrolled": true
   },
   "outputs": [
    {
     "name": "stdout",
     "output_type": "stream",
     "text": [
      "Running Gradient descent for Linear Regression\n"
     ]
    },
    {
     "data": {
      "text/latex": [
       "$\\displaystyle \\theta_{0} = \\left[\\begin{matrix}5\\\\-0.03\\\\-0.03\\end{matrix}\\right]$"
      ],
      "text/plain": [
       "Eq(theta_0, Matrix([\n",
       "[    5],\n",
       "[-0.03],\n",
       "[-0.03]]))"
      ]
     },
     "metadata": {},
     "output_type": "display_data"
    },
    {
     "name": "stdout",
     "output_type": "stream",
     "text": [
      "\n",
      "Iteration : 1\n"
     ]
    },
    {
     "data": {
      "text/latex": [
       "$\\displaystyle \n",
       "h_{θ}(x) = \\left[\\begin{matrix}0.95\\\\1.85\\\\2.3\\end{matrix}\\right]$"
      ],
      "text/plain": [
       "Eq(\n",
       "h_{θ}(x), Matrix([\n",
       "[0.95],\n",
       "[1.85],\n",
       "[ 2.3]]))"
      ]
     },
     "metadata": {},
     "output_type": "display_data"
    },
    {
     "data": {
      "text/latex": [
       "$\\displaystyle \\theta_{1} = \\left[\\begin{matrix}4.9976\\\\-0.0523333333333334\\\\-0.0286666666666667\\end{matrix}\\right]$"
      ],
      "text/plain": [
       "Eq(theta_1, Matrix([\n",
       "[             4.9976],\n",
       "[-0.0523333333333334],\n",
       "[-0.0286666666666667]]))"
      ]
     },
     "metadata": {},
     "output_type": "display_data"
    },
    {
     "name": "stdout",
     "output_type": "stream",
     "text": [
      "\n",
      "Loss J(θ) = 0.3855455837037076\n",
      "\n",
      "===============================================\n",
      "\n",
      "Iteration : 2\n"
     ]
    },
    {
     "data": {
      "text/latex": [
       "$\\displaystyle \n",
       "h_{θ}(x) = \\left[\\begin{matrix}0.299266666666658\\\\1.39593333333333\\\\1.70759999999999\\end{matrix}\\right]$"
      ],
      "text/plain": [
       "Eq(\n",
       "h_{θ}(x), Matrix([\n",
       "[0.299266666666658],\n",
       "[ 1.39593333333333],\n",
       "[ 1.70759999999999]]))"
      ]
     },
     "metadata": {},
     "output_type": "display_data"
    },
    {
     "data": {
      "text/latex": [
       "$\\displaystyle \\theta_{2} = \\left[\\begin{matrix}5.00651466666667\\\\0.271328888888893\\\\0.885617777777789\\end{matrix}\\right]$"
      ],
      "text/plain": [
       "Eq(theta_2, Matrix([\n",
       "[ 5.00651466666667],\n",
       "[0.271328888888893],\n",
       "[0.885617777777789]]))"
      ]
     },
     "metadata": {},
     "output_type": "display_data"
    },
    {
     "name": "stdout",
     "output_type": "stream",
     "text": [
      "\n",
      "Loss J(θ) = 3508.5574833406354\n",
      "\n",
      "===============================================\n",
      "\n",
      "Iteration : 3\n"
     ]
    },
    {
     "data": {
      "text/latex": [
       "$\\displaystyle \n",
       "h_{θ}(x) = \\left[\\begin{matrix}103.064803555557\\\\82.6391591111121\\\\66.2834480000008\\end{matrix}\\right]$"
      ],
      "text/plain": [
       "Eq(\n",
       "h_{θ}(x), Matrix([\n",
       "[103.064803555557],\n",
       "[82.6391591111121],\n",
       "[66.2834480000008]]))"
      ]
     },
     "metadata": {},
     "output_type": "display_data"
    },
    {
     "data": {
      "text/latex": [
       "$\\displaystyle \\theta_{3} = \\left[\\begin{matrix}3.35819859555553\\\\-49.8393413925932\\\\-135.87051531852\\end{matrix}\\right]$"
      ],
      "text/plain": [
       "Eq(theta_3, Matrix([\n",
       "[ 3.35819859555553],\n",
       "[-49.8393413925932],\n",
       "[ -135.87051531852]]))"
      ]
     },
     "metadata": {},
     "output_type": "display_data"
    },
    {
     "name": "stdout",
     "output_type": "stream",
     "text": [
      "\n",
      "Loss J(θ) = 79130421.54427132\n",
      "\n",
      "===============================================\n",
      "\n",
      "Iteration : 4\n"
     ]
    },
    {
     "data": {
      "text/latex": [
       "$\\displaystyle \n",
       "h_{θ}(x) = \\left[\\begin{matrix}-15328.0702819972\\\\-12112.2665617009\\\\-9644.05296229346\\end{matrix}\\right]$"
      ],
      "text/plain": [
       "Eq(\n",
       "h_{θ}(x), Matrix([\n",
       "[-15328.0702819972],\n",
       "[-12112.2665617009],\n",
       "[-9644.05296229346]]))"
      ]
     },
     "metadata": {},
     "output_type": "display_data"
    },
    {
     "data": {
      "text/latex": [
       "$\\displaystyle \\theta_{4} = \\left[\\begin{matrix}250.619063968833\\\\7475.1997438156\\\\20402.8810238375\\end{matrix}\\right]$"
      ],
      "text/plain": [
       "Eq(theta_4, Matrix([\n",
       "[250.619063968833],\n",
       "[ 7475.1997438156],\n",
       "[20402.8810238375]]))"
      ]
     },
     "metadata": {},
     "output_type": "display_data"
    },
    {
     "name": "stdout",
     "output_type": "stream",
     "text": [
      "\n",
      "Loss J(θ) = 1784786544865.047\n",
      "\n",
      "===============================================\n",
      "\n",
      "Iteration : 5\n"
     ]
    },
    {
     "data": {
      "text/latex": [
       "$\\displaystyle \n",
       "h_{θ}(x) = \\left[\\begin{matrix}2302170.71248126\\\\1819361.09456636\\\\1448679.47280869\\end{matrix}\\right]$"
      ],
      "text/plain": [
       "Eq(\n",
       "h_{θ}(x), Matrix([\n",
       "[2302170.71248126],\n",
       "[1819361.09456636],\n",
       "[1448679.47280869]]))"
      ]
     },
     "metadata": {},
     "output_type": "display_data"
    },
    {
     "data": {
      "text/latex": [
       "$\\displaystyle \\theta_{5} = \\left[\\begin{matrix}-36884.0912017399\\\\-1122659.74249128\\\\-3064172.75885587\\end{matrix}\\right]$"
      ],
      "text/plain": [
       "Eq(theta_5, Matrix([\n",
       "[-36884.0912017399],\n",
       "[-1122659.74249128],\n",
       "[-3064172.75885587]]))"
      ]
     },
     "metadata": {},
     "output_type": "display_data"
    },
    {
     "name": "stdout",
     "output_type": "stream",
     "text": [
      "\n",
      "Loss J(θ) = 4.02558580833604e+16\n",
      "\n",
      "===============================================\n"
     ]
    }
   ],
   "source": [
    "df = pd.DataFrame({'X1': [35,25,30], 'X2': [100,80,60], 'Y': [1.81,1.22,1.71]})\n",
    "GradientDescent(model = 'Linear Regression', data = df, alpha = 0.02, theta_init = [5,-0.03, -0.03]).run()"
   ]
  },
  {
   "cell_type": "markdown",
   "id": "48cd9603",
   "metadata": {},
   "source": [
    "## Linear Regression With L1 Regularization"
   ]
  },
  {
   "cell_type": "code",
   "execution_count": 123,
   "id": "1938f017",
   "metadata": {
    "scrolled": true
   },
   "outputs": [
    {
     "name": "stdout",
     "output_type": "stream",
     "text": [
      "Running Gradient descent for Linear Regression\n"
     ]
    },
    {
     "data": {
      "text/latex": [
       "$\\displaystyle \\theta_{0} = \\left[\\begin{matrix}5\\\\-0.03\\\\-0.03\\end{matrix}\\right]$"
      ],
      "text/plain": [
       "Eq(theta_0, Matrix([\n",
       "[    5],\n",
       "[-0.03],\n",
       "[-0.03]]))"
      ]
     },
     "metadata": {},
     "output_type": "display_data"
    },
    {
     "name": "stdout",
     "output_type": "stream",
     "text": [
      "\n",
      "Iteration : 1\n"
     ]
    },
    {
     "data": {
      "text/latex": [
       "$\\displaystyle \n",
       "h_{θ}(x) = \\left[\\begin{matrix}0.95\\\\1.85\\\\2.3\\end{matrix}\\right]$"
      ],
      "text/plain": [
       "Eq(\n",
       "h_{θ}(x), Matrix([\n",
       "[0.95],\n",
       "[1.85],\n",
       "[ 2.3]]))"
      ]
     },
     "metadata": {},
     "output_type": "display_data"
    },
    {
     "data": {
      "text/latex": [
       "$\\displaystyle \\theta_{1} = \\left[\\begin{matrix}4.9976\\\\-0.039\\\\-0.0153333333333334\\end{matrix}\\right]$"
      ],
      "text/plain": [
       "Eq(theta_1, Matrix([\n",
       "[             4.9976],\n",
       "[             -0.039],\n",
       "[-0.0153333333333334]]))"
      ]
     },
     "metadata": {},
     "output_type": "display_data"
    },
    {
     "name": "stdout",
     "output_type": "stream",
     "text": [
      "\n",
      "Loss J(θ) = 0.7031366948148087\n",
      "\n",
      "===============================================\n",
      "\n",
      "Iteration : 2\n"
     ]
    },
    {
     "data": {
      "text/latex": [
       "$\\displaystyle \n",
       "h_{θ}(x) = \\left[\\begin{matrix}2.09926666666666\\\\2.79593333333333\\\\2.9076\\end{matrix}\\right]$"
      ],
      "text/plain": [
       "Eq(\n",
       "h_{θ}(x), Matrix([\n",
       "[2.09926666666666],\n",
       "[2.79593333333333],\n",
       "[          2.9076]]))"
      ]
     },
     "metadata": {},
     "output_type": "display_data"
    },
    {
     "data": {
      "text/latex": [
       "$\\displaystyle \\theta_{2} = \\left[\\begin{matrix}4.97718133333333\\\\-0.595337777777774\\\\-1.51438222222221\\end{matrix}\\right]$"
      ],
      "text/plain": [
       "Eq(theta_2, Matrix([\n",
       "[  4.97718133333333],\n",
       "[-0.595337777777774],\n",
       "[ -1.51438222222221]]))"
      ]
     },
     "metadata": {},
     "output_type": "display_data"
    },
    {
     "name": "stdout",
     "output_type": "stream",
     "text": [
      "\n",
      "Loss J(θ) = 9537.335772164506\n",
      "\n",
      "===============================================\n",
      "\n",
      "Iteration : 3\n"
     ]
    },
    {
     "data": {
      "text/latex": [
       "$\\displaystyle \n",
       "h_{θ}(x) = \\left[\\begin{matrix}-167.29786311111\\\\-131.056840888888\\\\-103.745885333333\\end{matrix}\\right]$"
      ],
      "text/plain": [
       "Eq(\n",
       "h_{θ}(x), Matrix([\n",
       "[ -167.29786311111],\n",
       "[-131.056840888888],\n",
       "[-103.745885333333]]))"
      ]
     },
     "metadata": {},
     "output_type": "display_data"
    },
    {
     "data": {
      "text/latex": [
       "$\\displaystyle \\theta_{3} = \\left[\\begin{matrix}7.68945192888887\\\\82.0138141629624\\\\223.967529125924\\end{matrix}\\right]$"
      ],
      "text/plain": [
       "Eq(theta_3, Matrix([\n",
       "[7.68945192888887],\n",
       "[82.0138141629624],\n",
       "[223.967529125924]]))"
      ]
     },
     "metadata": {},
     "output_type": "display_data"
    },
    {
     "name": "stdout",
     "output_type": "stream",
     "text": [
      "\n",
      "Loss J(θ) = 215108725.00458696\n",
      "\n",
      "===============================================\n",
      "\n",
      "Iteration : 4\n"
     ]
    },
    {
     "data": {
      "text/latex": [
       "$\\displaystyle \n",
       "h_{θ}(x) = \\left[\\begin{matrix}25274.925860225\\\\19975.4371360769\\\\15906.1556243732\\end{matrix}\\right]$"
      ],
      "text/plain": [
       "Eq(\n",
       "h_{θ}(x), Matrix([\n",
       "[ 25274.925860225],\n",
       "[19975.4371360769],\n",
       "[15906.1556243732]]))"
      ]
     },
     "metadata": {},
     "output_type": "display_data"
    },
    {
     "data": {
      "text/latex": [
       "$\\displaystyle \\theta_{4} = \\left[\\begin{matrix}-399.989072208945\\\\-12324.985200777\\\\-33639.483766681\\end{matrix}\\right]$"
      ],
      "text/plain": [
       "Eq(theta_4, Matrix([\n",
       "[-399.989072208945],\n",
       "[ -12324.985200777],\n",
       "[ -33639.483766681]]))"
      ]
     },
     "metadata": {},
     "output_type": "display_data"
    },
    {
     "name": "stdout",
     "output_type": "stream",
     "text": [
      "\n",
      "Loss J(θ) = 4851777056120.387\n",
      "\n",
      "===============================================\n",
      "\n",
      "Iteration : 5\n"
     ]
    },
    {
     "data": {
      "text/latex": [
       "$\\displaystyle \n",
       "h_{θ}(x) = \\left[\\begin{matrix}-3795722.84776751\\\\-2999683.32042612\\\\-2388518.57109638\\end{matrix}\\right]$"
      ],
      "text/plain": [
       "Eq(\n",
       "h_{θ}(x), Matrix([\n",
       "[-3795722.84776751],\n",
       "[-2999683.32042612],\n",
       "[-2388518.57109638]]))"
      ]
     },
     "metadata": {},
     "output_type": "display_data"
    },
    {
     "data": {
      "text/latex": [
       "$\\displaystyle \\theta_{5} = \\left[\\begin{matrix}60826.2074563911\\\\1850995.5945686\\\\5052083.50207747\\end{matrix}\\right]$"
      ],
      "text/plain": [
       "Eq(theta_5, Matrix([\n",
       "[60826.2074563911],\n",
       "[ 1850995.5945686],\n",
       "[5052083.50207747]]))"
      ]
     },
     "metadata": {},
     "output_type": "display_data"
    },
    {
     "name": "stdout",
     "output_type": "stream",
     "text": [
      "\n",
      "Loss J(θ) = 1.0943182488777405e+17\n",
      "\n",
      "===============================================\n"
     ]
    }
   ],
   "source": [
    "df = pd.DataFrame({'X1': [35,25,30], 'X2': [100,80,60], 'Y': [1.81,1.22,1.71]})\n",
    "GradientDescent(model = 'Linear Regression', data = df, alpha = 0.02,  lambda_ = 2, regularization = 'L1',\n",
    "                theta_init = [5,-0.03, -0.03]).run()"
   ]
  },
  {
   "cell_type": "markdown",
   "id": "9ec4fbdc",
   "metadata": {},
   "source": [
    "## Linear Regression With L2 Regularization"
   ]
  },
  {
   "cell_type": "code",
   "execution_count": 124,
   "id": "e82010a4",
   "metadata": {
    "scrolled": false
   },
   "outputs": [
    {
     "name": "stdout",
     "output_type": "stream",
     "text": [
      "Running Gradient descent for Linear Regression\n"
     ]
    },
    {
     "data": {
      "text/latex": [
       "$\\displaystyle \\theta_{0} = \\left[\\begin{matrix}5\\\\-0.03\\\\-0.03\\end{matrix}\\right]$"
      ],
      "text/plain": [
       "Eq(theta_0, Matrix([\n",
       "[    5],\n",
       "[-0.03],\n",
       "[-0.03]]))"
      ]
     },
     "metadata": {},
     "output_type": "display_data"
    },
    {
     "name": "stdout",
     "output_type": "stream",
     "text": [
      "\n",
      "Iteration : 1\n"
     ]
    },
    {
     "data": {
      "text/latex": [
       "$\\displaystyle \n",
       "h_{θ}(x) = \\left[\\begin{matrix}0.95\\\\1.85\\\\2.3\\end{matrix}\\right]$"
      ],
      "text/plain": [
       "Eq(\n",
       "h_{θ}(x), Matrix([\n",
       "[0.95],\n",
       "[1.85],\n",
       "[ 2.3]]))"
      ]
     },
     "metadata": {},
     "output_type": "display_data"
    },
    {
     "data": {
      "text/latex": [
       "$\\displaystyle \\theta_{1} = \\left[\\begin{matrix}4.9976\\\\-0.0519333333333334\\\\-0.0282666666666667\\end{matrix}\\right]$"
      ],
      "text/plain": [
       "Eq(theta_1, Matrix([\n",
       "[             4.9976],\n",
       "[-0.0519333333333334],\n",
       "[-0.0282666666666667]]))"
      ]
     },
     "metadata": {},
     "output_type": "display_data"
    },
    {
     "name": "stdout",
     "output_type": "stream",
     "text": [
      "\n",
      "Loss J(θ) = 0.36294800888889234\n",
      "\n",
      "===============================================\n",
      "\n",
      "Iteration : 2\n"
     ]
    },
    {
     "data": {
      "text/latex": [
       "$\\displaystyle \n",
       "h_{θ}(x) = \\left[\\begin{matrix}0.353266666666658\\\\1.43793333333333\\\\1.74359999999999\\end{matrix}\\right]$"
      ],
      "text/plain": [
       "Eq(\n",
       "h_{θ}(x), Matrix([\n",
       "[0.353266666666658],\n",
       "[ 1.43793333333333],\n",
       "[ 1.74359999999999]]))"
      ]
     },
     "metadata": {},
     "output_type": "display_data"
    },
    {
     "data": {
      "text/latex": [
       "$\\displaystyle \\theta_{2} = \\left[\\begin{matrix}5.00563466666667\\\\0.245621333333337\\\\0.813594666666678\\end{matrix}\\right]$"
      ],
      "text/plain": [
       "Eq(theta_2, Matrix([\n",
       "[ 5.00563466666667],\n",
       "[0.245621333333337],\n",
       "[0.813594666666678]]))"
      ]
     },
     "metadata": {},
     "output_type": "display_data"
    },
    {
     "name": "stdout",
     "output_type": "stream",
     "text": [
      "\n",
      "Loss J(θ) = 2973.939619005096\n",
      "\n",
      "===============================================\n",
      "\n",
      "Iteration : 3\n"
     ]
    },
    {
     "data": {
      "text/latex": [
       "$\\displaystyle \n",
       "h_{θ}(x) = \\left[\\begin{matrix}94.9618480000013\\\\76.2337413333343\\\\61.1899546666674\\end{matrix}\\right]$"
      ],
      "text/plain": [
       "Eq(\n",
       "h_{θ}(x), Matrix([\n",
       "[94.9618480000013],\n",
       "[76.2337413333343],\n",
       "[61.1899546666674]]))"
      ]
     },
     "metadata": {},
     "output_type": "display_data"
    },
    {
     "data": {
      "text/latex": [
       "$\\displaystyle \\theta_{3} = \\left[\\begin{matrix}3.48799770666665\\\\-45.8913659733339\\\\-125.097795840002\\end{matrix}\\right]$"
      ],
      "text/plain": [
       "Eq(theta_3, Matrix([\n",
       "[ 3.48799770666665],\n",
       "[-45.8913659733339],\n",
       "[-125.097795840002]]))"
      ]
     },
     "metadata": {},
     "output_type": "display_data"
    },
    {
     "name": "stdout",
     "output_type": "stream",
     "text": [
      "\n",
      "Loss J(θ) = 67083991.48113447\n",
      "\n",
      "===============================================\n",
      "\n",
      "Iteration : 4\n"
     ]
    },
    {
     "data": {
      "text/latex": [
       "$\\displaystyle \n",
       "h_{θ}(x) = \\left[\\begin{matrix}-14112.4893953602\\\\-11151.6198188268\\\\-8879.12073189345\\end{matrix}\\right]$"
      ],
      "text/plain": [
       "Eq(\n",
       "h_{θ}(x), Matrix([\n",
       "[-14112.4893953602],\n",
       "[-11151.6198188268],\n",
       "[-8879.12073189345]]))"
      ]
     },
     "metadata": {},
     "output_type": "display_data"
    },
    {
     "data": {
      "text/latex": [
       "$\\displaystyle \\theta_{4} = \\left[\\begin{matrix}231.141130680536\\\\6883.02982734018\\\\18786.6166344763\\end{matrix}\\right]$"
      ],
      "text/plain": [
       "Eq(theta_4, Matrix([\n",
       "[231.141130680536],\n",
       "[6883.02982734018],\n",
       "[18786.6166344763]]))"
      ]
     },
     "metadata": {},
     "output_type": "display_data"
    },
    {
     "name": "stdout",
     "output_type": "stream",
     "text": [
      "\n",
      "Loss J(θ) = 1513347972520.222\n",
      "\n",
      "===============================================\n",
      "\n",
      "Iteration : 5\n"
     ]
    },
    {
     "data": {
      "text/latex": [
       "$\\displaystyle \n",
       "h_{θ}(x) = \\left[\\begin{matrix}2119798.84853522\\\\1675236.21757229\\\\1333919.03401947\\end{matrix}\\right]$"
      ],
      "text/plain": [
       "Eq(\n",
       "h_{θ}(x), Matrix([\n",
       "[2119798.84853522],\n",
       "[1675236.21757229],\n",
       "[1333919.03401947]]))"
      ]
     },
     "metadata": {},
     "output_type": "display_data"
    },
    {
     "data": {
      "text/latex": [
       "$\\displaystyle \\theta_{5} = \\left[\\begin{matrix}-33961.8546034993\\\\-1033817.35062785\\\\-2821687.49225714\\end{matrix}\\right]$"
      ],
      "text/plain": [
       "Eq(theta_5, Matrix([\n",
       "[-33961.8546034993],\n",
       "[-1033817.35062785],\n",
       "[-2821687.49225714]]))"
      ]
     },
     "metadata": {},
     "output_type": "display_data"
    },
    {
     "name": "stdout",
     "output_type": "stream",
     "text": [
      "\n",
      "Loss J(θ) = 3.4139621735077836e+16\n",
      "\n",
      "===============================================\n"
     ]
    }
   ],
   "source": [
    "df = pd.DataFrame({'X1': [35,25,30], 'X2': [100,80,60], 'Y': [1.81,1.22,1.71]})\n",
    "GradientDescent(model = 'Linear Regression', data = df, alpha = 0.02,  lambda_ = 2, regularization = 'L2',\n",
    "                theta_init = [5,-0.03, -0.03]).run()"
   ]
  },
  {
   "cell_type": "markdown",
   "id": "8b166024",
   "metadata": {},
   "source": [
    "## Logictic Regression Without Regularization"
   ]
  },
  {
   "cell_type": "code",
   "execution_count": 127,
   "id": "d3cd4c70",
   "metadata": {
    "scrolled": true
   },
   "outputs": [
    {
     "name": "stdout",
     "output_type": "stream",
     "text": [
      "Running Gradient descent for Logictic Regression\n"
     ]
    },
    {
     "data": {
      "text/latex": [
       "$\\displaystyle theta_{0} = \\left[\\begin{matrix}5\\\\-0.03\\\\-0.03\\end{matrix}\\right]$"
      ],
      "text/plain": [
       "Eq(theta_{0}, Matrix([\n",
       "[    5],\n",
       "[-0.03],\n",
       "[-0.03]]))"
      ]
     },
     "metadata": {},
     "output_type": "display_data"
    },
    {
     "name": "stdout",
     "output_type": "stream",
     "text": [
      "\n",
      "Iteration : 1\n"
     ]
    },
    {
     "data": {
      "text/latex": [
       "$\\displaystyle \n",
       "h_{θ}(x) = \\left[\\begin{matrix}0.721115178022863\\\\0.864127102990906\\\\0.908877038985144\\end{matrix}\\right]$"
      ],
      "text/plain": [
       "Eq(\n",
       "h_{θ}(x), Matrix([\n",
       "[0.721115178022863],\n",
       "[0.864127102990906],\n",
       "[0.908877038985144]]))"
      ]
     },
     "metadata": {},
     "output_type": "display_data"
    },
    {
     "data": {
      "text/latex": [
       "$\\displaystyle \\theta_{1} = \\left[\\begin{matrix}5.01497253786667\\\\0.443609866832486\\\\1.20617127746222\\end{matrix}\\right]$"
      ],
      "text/plain": [
       "Eq(theta_1, Matrix([\n",
       "[ 5.01497253786667],\n",
       "[0.443609866832486],\n",
       "[ 1.20617127746222]]))"
      ]
     },
     "metadata": {},
     "output_type": "display_data"
    },
    {
     "name": "stdout",
     "output_type": "stream",
     "text": [
      "\n",
      "Loss J(θ) = -inf\n",
      "\n",
      "===============================================\n",
      "\n",
      "Iteration : 2\n"
     ]
    },
    {
     "name": "stderr",
     "output_type": "stream",
     "text": [
      "C:\\Users\\sumil\\Anaconda3\\lib\\site-packages\\pandas\\core\\arraylike.py:364: RuntimeWarning: divide by zero encountered in log\n",
      "  result = getattr(ufunc, method)(*inputs, **kwargs)\n"
     ]
    },
    {
     "data": {
      "text/latex": [
       "$\\displaystyle \n",
       "h_{θ}(x) = \\left[\\begin{matrix}1.0\\\\1.0\\\\1.0\\end{matrix}\\right]$"
      ],
      "text/plain": [
       "Eq(\n",
       "h_{θ}(x), Matrix([\n",
       "[1.0],\n",
       "[1.0],\n",
       "[1.0]]))"
      ]
     },
     "metadata": {},
     "output_type": "display_data"
    },
    {
     "data": {
      "text/latex": [
       "$\\displaystyle \\theta_{2} = \\left[\\begin{matrix}5.02657253786667\\\\0.811276533499152\\\\2.14750461079555\\end{matrix}\\right]$"
      ],
      "text/plain": [
       "Eq(theta_2, Matrix([\n",
       "[ 5.02657253786667],\n",
       "[0.811276533499152],\n",
       "[ 2.14750461079555]]))"
      ]
     },
     "metadata": {},
     "output_type": "display_data"
    },
    {
     "name": "stdout",
     "output_type": "stream",
     "text": [
      "\n",
      "Loss J(θ) = -inf\n",
      "\n",
      "===============================================\n",
      "\n",
      "Iteration : 3\n"
     ]
    },
    {
     "data": {
      "text/latex": [
       "$\\displaystyle \n",
       "h_{θ}(x) = \\left[\\begin{matrix}1.0\\\\1.0\\\\1.0\\end{matrix}\\right]$"
      ],
      "text/plain": [
       "Eq(\n",
       "h_{θ}(x), Matrix([\n",
       "[1.0],\n",
       "[1.0],\n",
       "[1.0]]))"
      ]
     },
     "metadata": {},
     "output_type": "display_data"
    },
    {
     "data": {
      "text/latex": [
       "$\\displaystyle \\theta_{3} = \\left[\\begin{matrix}5.03817253786667\\\\1.17894320016582\\\\3.08883794412888\\end{matrix}\\right]$"
      ],
      "text/plain": [
       "Eq(theta_3, Matrix([\n",
       "[5.03817253786667],\n",
       "[1.17894320016582],\n",
       "[3.08883794412888]]))"
      ]
     },
     "metadata": {},
     "output_type": "display_data"
    },
    {
     "name": "stdout",
     "output_type": "stream",
     "text": [
      "\n",
      "Loss J(θ) = -inf\n",
      "\n",
      "===============================================\n",
      "\n",
      "Iteration : 4\n"
     ]
    },
    {
     "data": {
      "text/latex": [
       "$\\displaystyle \n",
       "h_{θ}(x) = \\left[\\begin{matrix}1.0\\\\1.0\\\\1.0\\end{matrix}\\right]$"
      ],
      "text/plain": [
       "Eq(\n",
       "h_{θ}(x), Matrix([\n",
       "[1.0],\n",
       "[1.0],\n",
       "[1.0]]))"
      ]
     },
     "metadata": {},
     "output_type": "display_data"
    },
    {
     "data": {
      "text/latex": [
       "$\\displaystyle \\theta_{4} = \\left[\\begin{matrix}5.04977253786667\\\\1.54660986683249\\\\4.03017127746222\\end{matrix}\\right]$"
      ],
      "text/plain": [
       "Eq(theta_4, Matrix([\n",
       "[5.04977253786667],\n",
       "[1.54660986683249],\n",
       "[4.03017127746222]]))"
      ]
     },
     "metadata": {},
     "output_type": "display_data"
    },
    {
     "name": "stdout",
     "output_type": "stream",
     "text": [
      "\n",
      "Loss J(θ) = -inf\n",
      "\n",
      "===============================================\n",
      "\n",
      "Iteration : 5\n"
     ]
    },
    {
     "data": {
      "text/latex": [
       "$\\displaystyle \n",
       "h_{θ}(x) = \\left[\\begin{matrix}1.0\\\\1.0\\\\1.0\\end{matrix}\\right]$"
      ],
      "text/plain": [
       "Eq(\n",
       "h_{θ}(x), Matrix([\n",
       "[1.0],\n",
       "[1.0],\n",
       "[1.0]]))"
      ]
     },
     "metadata": {},
     "output_type": "display_data"
    },
    {
     "data": {
      "text/latex": [
       "$\\displaystyle \\theta_{5} = \\left[\\begin{matrix}5.06137253786667\\\\1.91427653349915\\\\4.97150461079555\\end{matrix}\\right]$"
      ],
      "text/plain": [
       "Eq(theta_5, Matrix([\n",
       "[5.06137253786667],\n",
       "[1.91427653349915],\n",
       "[4.97150461079555]]))"
      ]
     },
     "metadata": {},
     "output_type": "display_data"
    },
    {
     "name": "stdout",
     "output_type": "stream",
     "text": [
      "\n",
      "Loss J(θ) = -inf\n",
      "\n",
      "===============================================\n"
     ]
    }
   ],
   "source": [
    "df = pd.DataFrame({'X1': [35,25,30], 'X2': [100,80,60], 'Y': [1.81,1.22,1.71]})\n",
    "GradientDescent(model = 'Logistic Regression', data = df, alpha = 0.02, theta_init = [5,-0.03, -0.03]).run()"
   ]
  },
  {
   "cell_type": "markdown",
   "id": "08a0e19a",
   "metadata": {},
   "source": [
    "## Logistic Regression With L1 Regularization"
   ]
  },
  {
   "cell_type": "code",
   "execution_count": 128,
   "id": "53d47691",
   "metadata": {
    "scrolled": true
   },
   "outputs": [
    {
     "name": "stdout",
     "output_type": "stream",
     "text": [
      "Running Gradient descent for Logictic Regression\n"
     ]
    },
    {
     "data": {
      "text/latex": [
       "$\\displaystyle theta_{0} = \\left[\\begin{matrix}5\\\\-0.03\\\\-0.03\\end{matrix}\\right]$"
      ],
      "text/plain": [
       "Eq(theta_{0}, Matrix([\n",
       "[    5],\n",
       "[-0.03],\n",
       "[-0.03]]))"
      ]
     },
     "metadata": {},
     "output_type": "display_data"
    },
    {
     "name": "stdout",
     "output_type": "stream",
     "text": [
      "\n",
      "Iteration : 1\n"
     ]
    },
    {
     "data": {
      "text/latex": [
       "$\\displaystyle \n",
       "h_{θ}(x) = \\left[\\begin{matrix}0.721115178022863\\\\0.864127102990906\\\\0.908877038985144\\end{matrix}\\right]$"
      ],
      "text/plain": [
       "Eq(\n",
       "h_{θ}(x), Matrix([\n",
       "[0.721115178022863],\n",
       "[0.864127102990906],\n",
       "[0.908877038985144]]))"
      ]
     },
     "metadata": {},
     "output_type": "display_data"
    },
    {
     "data": {
      "text/latex": [
       "$\\displaystyle \\theta_{1} = \\left[\\begin{matrix}5.01497253786667\\\\0.456943200165819\\\\1.21950461079555\\end{matrix}\\right]$"
      ],
      "text/plain": [
       "Eq(theta_1, Matrix([\n",
       "[ 5.01497253786667],\n",
       "[0.456943200165819],\n",
       "[ 1.21950461079555]]))"
      ]
     },
     "metadata": {},
     "output_type": "display_data"
    },
    {
     "name": "stdout",
     "output_type": "stream",
     "text": [
      "\n",
      "Loss J(θ) = -inf\n",
      "\n",
      "===============================================\n",
      "\n",
      "Iteration : 2\n"
     ]
    },
    {
     "data": {
      "text/latex": [
       "$\\displaystyle \n",
       "h_{θ}(x) = \\left[\\begin{matrix}1.0\\\\1.0\\\\1.0\\end{matrix}\\right]$"
      ],
      "text/plain": [
       "Eq(\n",
       "h_{θ}(x), Matrix([\n",
       "[1.0],\n",
       "[1.0],\n",
       "[1.0]]))"
      ]
     },
     "metadata": {},
     "output_type": "display_data"
    },
    {
     "data": {
      "text/latex": [
       "$\\displaystyle \\theta_{2} = \\left[\\begin{matrix}5.02657253786667\\\\0.811276533499152\\\\2.14750461079555\\end{matrix}\\right]$"
      ],
      "text/plain": [
       "Eq(theta_2, Matrix([\n",
       "[ 5.02657253786667],\n",
       "[0.811276533499152],\n",
       "[ 2.14750461079555]]))"
      ]
     },
     "metadata": {},
     "output_type": "display_data"
    },
    {
     "name": "stdout",
     "output_type": "stream",
     "text": [
      "\n",
      "Loss J(θ) = -inf\n",
      "\n",
      "===============================================\n",
      "\n",
      "Iteration : 3\n"
     ]
    },
    {
     "data": {
      "text/latex": [
       "$\\displaystyle \n",
       "h_{θ}(x) = \\left[\\begin{matrix}1.0\\\\1.0\\\\1.0\\end{matrix}\\right]$"
      ],
      "text/plain": [
       "Eq(\n",
       "h_{θ}(x), Matrix([\n",
       "[1.0],\n",
       "[1.0],\n",
       "[1.0]]))"
      ]
     },
     "metadata": {},
     "output_type": "display_data"
    },
    {
     "data": {
      "text/latex": [
       "$\\displaystyle \\theta_{3} = \\left[\\begin{matrix}5.03817253786667\\\\1.16560986683249\\\\3.07550461079555\\end{matrix}\\right]$"
      ],
      "text/plain": [
       "Eq(theta_3, Matrix([\n",
       "[5.03817253786667],\n",
       "[1.16560986683249],\n",
       "[3.07550461079555]]))"
      ]
     },
     "metadata": {},
     "output_type": "display_data"
    },
    {
     "name": "stdout",
     "output_type": "stream",
     "text": [
      "\n",
      "Loss J(θ) = -inf\n",
      "\n",
      "===============================================\n",
      "\n",
      "Iteration : 4\n"
     ]
    },
    {
     "data": {
      "text/latex": [
       "$\\displaystyle \n",
       "h_{θ}(x) = \\left[\\begin{matrix}1.0\\\\1.0\\\\1.0\\end{matrix}\\right]$"
      ],
      "text/plain": [
       "Eq(\n",
       "h_{θ}(x), Matrix([\n",
       "[1.0],\n",
       "[1.0],\n",
       "[1.0]]))"
      ]
     },
     "metadata": {},
     "output_type": "display_data"
    },
    {
     "data": {
      "text/latex": [
       "$\\displaystyle \\theta_{4} = \\left[\\begin{matrix}5.04977253786667\\\\1.51994320016582\\\\4.00350461079555\\end{matrix}\\right]$"
      ],
      "text/plain": [
       "Eq(theta_4, Matrix([\n",
       "[5.04977253786667],\n",
       "[1.51994320016582],\n",
       "[4.00350461079555]]))"
      ]
     },
     "metadata": {},
     "output_type": "display_data"
    },
    {
     "name": "stdout",
     "output_type": "stream",
     "text": [
      "\n",
      "Loss J(θ) = -inf\n",
      "\n",
      "===============================================\n",
      "\n",
      "Iteration : 5\n"
     ]
    },
    {
     "data": {
      "text/latex": [
       "$\\displaystyle \n",
       "h_{θ}(x) = \\left[\\begin{matrix}1.0\\\\1.0\\\\1.0\\end{matrix}\\right]$"
      ],
      "text/plain": [
       "Eq(\n",
       "h_{θ}(x), Matrix([\n",
       "[1.0],\n",
       "[1.0],\n",
       "[1.0]]))"
      ]
     },
     "metadata": {},
     "output_type": "display_data"
    },
    {
     "data": {
      "text/latex": [
       "$\\displaystyle \\theta_{5} = \\left[\\begin{matrix}5.06137253786667\\\\1.87427653349915\\\\4.93150461079555\\end{matrix}\\right]$"
      ],
      "text/plain": [
       "Eq(theta_5, Matrix([\n",
       "[5.06137253786667],\n",
       "[1.87427653349915],\n",
       "[4.93150461079555]]))"
      ]
     },
     "metadata": {},
     "output_type": "display_data"
    },
    {
     "name": "stdout",
     "output_type": "stream",
     "text": [
      "\n",
      "Loss J(θ) = -inf\n",
      "\n",
      "===============================================\n"
     ]
    }
   ],
   "source": [
    "df = pd.DataFrame({'X1': [35,25,30], 'X2': [100,80,60], 'Y': [1.81,1.22,1.71]})\n",
    "GradientDescent(model = 'Logictic Regression', data = df, alpha = 0.02,  lambda_ = 2, regularization = 'L1',\n",
    "                theta_init = [5,-0.03, -0.03]).run()"
   ]
  },
  {
   "cell_type": "markdown",
   "id": "55ee0369",
   "metadata": {},
   "source": [
    "## Logistic Regression With L2 Regularization"
   ]
  },
  {
   "cell_type": "code",
   "execution_count": 133,
   "id": "1e8bc3d1",
   "metadata": {
    "scrolled": true
   },
   "outputs": [
    {
     "name": "stdout",
     "output_type": "stream",
     "text": [
      "Running Gradient descent for Logictic Regression\n"
     ]
    },
    {
     "data": {
      "text/latex": [
       "$\\displaystyle \\theta_{0} = \\left[\\begin{matrix}5\\\\-0.03\\\\-0.03\\end{matrix}\\right]$"
      ],
      "text/plain": [
       "Eq(theta_0, Matrix([\n",
       "[    5],\n",
       "[-0.03],\n",
       "[-0.03]]))"
      ]
     },
     "metadata": {},
     "output_type": "display_data"
    },
    {
     "name": "stdout",
     "output_type": "stream",
     "text": [
      "\n",
      "Iteration : 1\n"
     ]
    },
    {
     "data": {
      "text/latex": [
       "$\\displaystyle \n",
       "h_{θ}(x) = \\left[\\begin{matrix}0.721115178022863\\\\0.864127102990906\\\\0.908877038985144\\end{matrix}\\right]$"
      ],
      "text/plain": [
       "Eq(\n",
       "h_{θ}(x), Matrix([\n",
       "[0.721115178022863],\n",
       "[0.864127102990906],\n",
       "[0.908877038985144]]))"
      ]
     },
     "metadata": {},
     "output_type": "display_data"
    },
    {
     "data": {
      "text/latex": [
       "$\\displaystyle \\theta_{1} = \\left[\\begin{matrix}5.01497253786667\\\\0.444009866832486\\\\1.20657127746222\\end{matrix}\\right]$"
      ],
      "text/plain": [
       "Eq(theta_1, Matrix([\n",
       "[ 5.01497253786667],\n",
       "[0.444009866832486],\n",
       "[ 1.20657127746222]]))"
      ]
     },
     "metadata": {},
     "output_type": "display_data"
    },
    {
     "name": "stdout",
     "output_type": "stream",
     "text": [
      "\n",
      "Loss J(θ) = -inf\n",
      "\n",
      "===============================================\n",
      "\n",
      "Iteration : 2\n"
     ]
    },
    {
     "data": {
      "text/latex": [
       "$\\displaystyle \n",
       "h_{θ}(x) = \\left[\\begin{matrix}1.0\\\\1.0\\\\1.0\\end{matrix}\\right]$"
      ],
      "text/plain": [
       "Eq(\n",
       "h_{θ}(x), Matrix([\n",
       "[1.0],\n",
       "[1.0],\n",
       "[1.0]]))"
      ]
     },
     "metadata": {},
     "output_type": "display_data"
    },
    {
     "data": {
      "text/latex": [
       "$\\displaystyle \\theta_{2} = \\left[\\begin{matrix}5.02657253786667\\\\0.805756401941386\\\\2.13181699376272\\end{matrix}\\right]$"
      ],
      "text/plain": [
       "Eq(theta_2, Matrix([\n",
       "[ 5.02657253786667],\n",
       "[0.805756401941386],\n",
       "[ 2.13181699376272]]))"
      ]
     },
     "metadata": {},
     "output_type": "display_data"
    },
    {
     "name": "stdout",
     "output_type": "stream",
     "text": [
      "\n",
      "Loss J(θ) = -inf\n",
      "\n",
      "===============================================\n",
      "\n",
      "Iteration : 3\n"
     ]
    },
    {
     "data": {
      "text/latex": [
       "$\\displaystyle \n",
       "h_{θ}(x) = \\left[\\begin{matrix}1.0\\\\1.0\\\\1.0\\end{matrix}\\right]$"
      ],
      "text/plain": [
       "Eq(\n",
       "h_{θ}(x), Matrix([\n",
       "[1.0],\n",
       "[1.0],\n",
       "[1.0]]))"
      ]
     },
     "metadata": {},
     "output_type": "display_data"
    },
    {
     "data": {
      "text/latex": [
       "$\\displaystyle \\theta_{3} = \\left[\\begin{matrix}5.03817253786667\\\\1.1626796499155\\\\3.04472610051255\\end{matrix}\\right]$"
      ],
      "text/plain": [
       "Eq(theta_3, Matrix([\n",
       "[5.03817253786667],\n",
       "[ 1.1626796499155],\n",
       "[3.04472610051255]]))"
      ]
     },
     "metadata": {},
     "output_type": "display_data"
    },
    {
     "name": "stdout",
     "output_type": "stream",
     "text": [
      "\n",
      "Loss J(θ) = -inf\n",
      "\n",
      "===============================================\n",
      "\n",
      "Iteration : 4\n"
     ]
    },
    {
     "data": {
      "text/latex": [
       "$\\displaystyle \n",
       "h_{θ}(x) = \\left[\\begin{matrix}1.0\\\\1.0\\\\1.0\\end{matrix}\\right]$"
      ],
      "text/plain": [
       "Eq(\n",
       "h_{θ}(x), Matrix([\n",
       "[1.0],\n",
       "[1.0],\n",
       "[1.0]]))"
      ]
     },
     "metadata": {},
     "output_type": "display_data"
    },
    {
     "data": {
      "text/latex": [
       "$\\displaystyle \\theta_{4} = \\left[\\begin{matrix}5.04977253786667\\\\1.51484392124996\\\\3.94546308583905\\end{matrix}\\right]$"
      ],
      "text/plain": [
       "Eq(theta_4, Matrix([\n",
       "[5.04977253786667],\n",
       "[1.51484392124996],\n",
       "[3.94546308583905]]))"
      ]
     },
     "metadata": {},
     "output_type": "display_data"
    },
    {
     "name": "stdout",
     "output_type": "stream",
     "text": [
      "\n",
      "Loss J(θ) = -inf\n",
      "\n",
      "===============================================\n",
      "\n",
      "Iteration : 5\n"
     ]
    },
    {
     "data": {
      "text/latex": [
       "$\\displaystyle \n",
       "h_{θ}(x) = \\left[\\begin{matrix}1.0\\\\1.0\\\\1.0\\end{matrix}\\right]$"
      ],
      "text/plain": [
       "Eq(\n",
       "h_{θ}(x), Matrix([\n",
       "[1.0],\n",
       "[1.0],\n",
       "[1.0]]))"
      ]
     },
     "metadata": {},
     "output_type": "display_data"
    },
    {
     "data": {
      "text/latex": [
       "$\\displaystyle \\theta_{5} = \\left[\\begin{matrix}5.06137253786667\\\\1.86231266896663\\\\4.83419024469453\\end{matrix}\\right]$"
      ],
      "text/plain": [
       "Eq(theta_5, Matrix([\n",
       "[5.06137253786667],\n",
       "[1.86231266896663],\n",
       "[4.83419024469453]]))"
      ]
     },
     "metadata": {},
     "output_type": "display_data"
    },
    {
     "name": "stdout",
     "output_type": "stream",
     "text": [
      "\n",
      "Loss J(θ) = -inf\n",
      "\n",
      "===============================================\n"
     ]
    }
   ],
   "source": [
    "df = pd.DataFrame({'X1': [35,25,30], 'X2': [100,80,60], 'Y': [1.81,1.22,1.71]})\n",
    "GradientDescent(model = 'Logistic Regression', data = df, alpha = 0.02,  lambda_ = 2, regularization = 'L2',\n",
    "                theta_init = [5,-0.03, -0.03]).run()"
   ]
  },
  {
   "cell_type": "code",
   "execution_count": null,
   "id": "d2348284",
   "metadata": {},
   "outputs": [],
   "source": []
  },
  {
   "cell_type": "code",
   "execution_count": null,
   "id": "98a64a1b",
   "metadata": {},
   "outputs": [],
   "source": []
  }
 ],
 "metadata": {
  "kernelspec": {
   "display_name": "Python 3 (ipykernel)",
   "language": "python",
   "name": "python3"
  },
  "language_info": {
   "codemirror_mode": {
    "name": "ipython",
    "version": 3
   },
   "file_extension": ".py",
   "mimetype": "text/x-python",
   "name": "python",
   "nbconvert_exporter": "python",
   "pygments_lexer": "ipython3",
   "version": "3.7.6"
  }
 },
 "nbformat": 4,
 "nbformat_minor": 5
}
