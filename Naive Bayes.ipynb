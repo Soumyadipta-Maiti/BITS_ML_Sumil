{
 "cells": [
  {
   "cell_type": "code",
   "execution_count": 72,
   "id": "74c3293a",
   "metadata": {},
   "outputs": [],
   "source": [
    "import numpy as np\n",
    "import pandas as pd\n",
    "from collections import Counter, defaultdict\n",
    "from sympy import *"
   ]
  },
  {
   "cell_type": "code",
   "execution_count": 37,
   "id": "dfd745bf",
   "metadata": {},
   "outputs": [],
   "source": [
    "pd.options.display.max_columns = None"
   ]
  },
  {
   "cell_type": "code",
   "execution_count": 67,
   "id": "1f2e54c4",
   "metadata": {},
   "outputs": [
    {
     "data": {
      "application/javascript": [
       "IPython.OutputArea.prototype._should_scroll = function(lines) {\n",
       "    return false;\n",
       "}\n"
      ],
      "text/plain": [
       "<IPython.core.display.Javascript object>"
      ]
     },
     "metadata": {},
     "output_type": "display_data"
    }
   ],
   "source": [
    "%%javascript\n",
    "IPython.OutputArea.prototype._should_scroll = function(lines) {\n",
    "    return false;\n",
    "}"
   ]
  },
  {
   "cell_type": "code",
   "execution_count": 152,
   "id": "492e5e96",
   "metadata": {},
   "outputs": [],
   "source": [
    "class NaiveBayes:\n",
    "    def __init__(self, **kwargs):\n",
    "        self.smoothing = kwargs.get('smoothing')\n",
    "        self.model = kwargs.get('model') if kwargs.get('model') else 'bernoulli'\n",
    "\n",
    "    def fit(self, X, y):\n",
    "        self.X = X\n",
    "        self.y = y\n",
    "\n",
    "        if not y:\n",
    "            self.y = self.X[:,-1]\n",
    "            self.X = self.X[:,:-1]\n",
    "\n",
    "\n",
    "\n",
    "        self.classes, self.class_counts = np.unique(self.y, return_counts=True)\n",
    "        self.total_count = len(self.y)\n",
    "        class_cols = []\n",
    "        class_vals = [[]]\n",
    "\n",
    "        for i, c in enumerate(self.classes):\n",
    "            class_cols.append(f'p(y={c})')\n",
    "            class_vals[0].append(np.round(self.class_counts[i]/self.total_count,4))\n",
    "\n",
    "        self.prior_df = pd.DataFrame(class_vals, columns=class_cols)\n",
    "\n",
    "        print('Class priors:')\n",
    "        #prior_df.style.hide_index()\n",
    "        print(self.prior_df.to_string(index=False))\n",
    "\n",
    "        if self.is_bag_of_words():\n",
    "            self.handle_bag_of_words()\n",
    "        else:\n",
    "            print('hi')\n",
    "    \n",
    "    def predict(self, X_test):\n",
    "        self.X_test = X_test\n",
    "        \n",
    "        if self.is_bag_of_words():\n",
    "            self.predict_bag_of_words()\n",
    "        \n",
    "    def predict_bag_of_words(self):\n",
    "        print(f'Test Document, D = {self.X_test}')\n",
    "        print('\\nUsing')\n",
    "        probs = []\n",
    "        if self.model == 'bernoulli':\n",
    "            display(Symbol('P(C_{k}|b)\\u221D P(X|C_{k})P(C_{k}))'))\n",
    "            display(Symbol('P(C_{k}|b)\\u221D P(C_{k})\\u220F_{t=1}^{|V|} [b_tP(w_t|C_k) + (1-b_t)(1-P(w_t|C_k))]'))\n",
    "            print('where b= feature vector of document D \\nb\\u209C = {0,1} => abscence or presence of word w\\u209C in the document')\n",
    "            b =  [int(word in self.X_test) for word in self.vocab]\n",
    "            print(f'b = {b}')\n",
    "            for cls in self.classes:\n",
    "                prob = self.prior_df[f'p(y={cls})'].iloc[0]\n",
    "                prob_string = f'P(y={cls}|b) \\u221D {prob}'\n",
    "                prob_string2 = f'P(y={cls}|X) \\u221D p(y={cls})'\n",
    "                \n",
    "                for word in self.vocab:\n",
    "                    if word in self.X_test:\n",
    "                        prob *= self.probabilities[cls][word]\n",
    "                        prob_string += f'*{self.str_probabilities[cls][word]}'\n",
    "                        prob_string2 += f'*P({word}|y={cls})'\n",
    "                    else:\n",
    "                        prob *= 1 - self.probabilities[cls][word]\n",
    "                        prob_string += f'*(1 - {self.str_probabilities[cls][word]})'\n",
    "                        prob_string2 += f'*(1 - P({word}|y={cls}))'\n",
    "                print()\n",
    "                print(prob_string)\n",
    "                print(f'= {np.round(prob,4)}')\n",
    "                probs.append(prob)\n",
    "                print('=========================================================')\n",
    "        else:\n",
    "            display(Symbol('P(C_{k}|D)\\u221D P(X|C_{k})P(C_{k}))'))\n",
    "            display(Symbol('P(C_{k}|D)\\u221D P(C_{k})\\u220F_{j=1}^{len(X)} P(u_j|C_k)'))\n",
    "            print('where u - each word in test document X')\n",
    "\n",
    "            for cls in self.classes:                \n",
    "                prob = self.prior_df[f'p(y={cls})'].iloc[0]\n",
    "                prob_string = f'P(y={cls}|X) \\u221D {prob}'\n",
    "                prob_string2 = f'P(y={cls}|X) \\u221D p(y={cls})'\n",
    "                for word in self.X_test.split():                    \n",
    "                    prob *= self.probabilities[cls][word]\n",
    "                    prob_string += f'*{self.str_probabilities[cls][word]}'\n",
    "                    prob_string2 += f'*P({word}|y={cls})'\n",
    "                   \n",
    "                print()\n",
    "                print(prob_string2)\n",
    "                print(prob_string)\n",
    "                print(f'= {np.round(prob,4)}')\n",
    "                probs.append(prob)\n",
    "                print('=========================================================')\n",
    "        print(f'\\nThe test document D belongs to class y = {self.classes[np.argmax(probs)]}')\n",
    "        \n",
    "    def is_bag_of_words(self):\n",
    "        return np.array(self.X).ndim == 1 \\\n",
    "               and np.array(self.X).dtype.kind in ['S', 'U'] and len(np.unique(self.X)) == self.total_count\n",
    "\n",
    "    def handle_bag_of_words(self):\n",
    "        words = [word for sentence in self.X for word in sentence.split()]\n",
    "\n",
    "        word_counts = Counter(words)\n",
    "\n",
    "        self.vocab = set(word_counts.keys())\n",
    "        #print(self.vocab)\n",
    "        if self.model == 'bernoulli':\n",
    "            bag_data = [[int(word in sentence) for word in self.vocab] for sentence in self.X]\n",
    "        else:\n",
    "            bag_data = []\n",
    "            for sentence in self.X:\n",
    "                wc = Counter(sentence.split())\n",
    "                bag_data.append([wc.get(word) if wc.get(word) else 0 for word in self.vocab ])\n",
    "        #print(bag_data)\n",
    "        df_bag = pd.DataFrame(bag_data, columns=self.vocab, index = self.X)\n",
    "        df_bag['Class(Y)'] = self.y\n",
    "        print('Data:')\n",
    "        display(df_bag)\n",
    "        print('==================================================================================')\n",
    "        \n",
    "        self.probabilities = defaultdict(dict)\n",
    "        self.str_probabilities = defaultdict(dict)\n",
    "        \n",
    "        for cls in self.classes:\n",
    "            df_bag_cls = df_bag[df_bag['Class(Y)'] == cls]\n",
    "            print(f'\\n\\nFor Y = {cls}')\n",
    "            #print(df_bag_cls.sum().sum())\n",
    "            display(df_bag_cls)\n",
    "            idx_cls = df_bag_cls.index\n",
    "            words_cls = [word for sentence in idx_cls for word in sentence.split()]\n",
    "            for word in self.vocab:\n",
    "                if self.model == 'bernoulli':\n",
    "                    if self.smoothing:\n",
    "                        print(f'\\np({word}|y={cls}) = ({df_bag_cls[word].sum()} + 1)/({df_bag_cls.shape[0]} + 2)',\n",
    "                              f'= {df_bag_cls[word].sum() + 1}/{df_bag_cls.shape[0] +2}',\n",
    "                              f'= {np.round((df_bag_cls[word].sum() + 1)/(df_bag_cls.shape[0] +2), 4)}')\n",
    "                        self.probabilities[cls][word] = np.round((df_bag_cls[word].sum() + 1)/(df_bag_cls.shape[0] +2), 4)\n",
    "                        self.str_probabilities[cls][word] = f'{df_bag_cls[word].sum() + 1}/{df_bag_cls.shape[0] +2}'\n",
    "                    else:\n",
    "                        print(f'\\np({word}|y={cls}) = {df_bag_cls[word].sum()}/{df_bag_cls.shape[0]}',\n",
    "                              f'= {np.round((df_bag_cls[word].sum())/(df_bag_cls.shape[0]),4)}')\n",
    "                        self.probabilities[cls][word] = np.round((df_bag_cls[word].sum())/(df_bag_cls.shape[0]),4)\n",
    "                        self.str_probabilities[cls][word] = f'{df_bag_cls[word].sum()}/{df_bag_cls.shape[0]}'\n",
    "                else:                    \n",
    "                    if self.smoothing:\n",
    "                        print(f'\\np({word}|y={cls}) = ({df_bag_cls[word].sum()} + 1)/({len(words_cls)} + {len(self.vocab)})',\n",
    "                              f'= {df_bag_cls[word].sum() + 1}/{len(words_cls) +len(self.vocab)}',\n",
    "                              f'= {np.round((df_bag_cls[word].sum() + 1)/(len(words_cls) +len(self.vocab)), 4)}')\n",
    "                        self.probabilities[cls][word] = np.round((df_bag_cls[word].sum() + 1)/(len(words_cls) +len(self.vocab)), 4)\n",
    "                        self.str_probabilities[cls][word] = f'{df_bag_cls[word].sum() + 1}/{len(words_cls) +len(self.vocab)}'\n",
    "                    else:\n",
    "                        print(f'\\np({word}|y={cls}) = {df_bag_cls[word].sum()}/{len(words_cls)}',\n",
    "                              f'= {np.round((df_bag_cls[word].sum())/(len(words_cls)),4)}')\n",
    "                        self.probabilities[cls][word] = np.round((df_bag_cls[word].sum())/(len(words_cls)),4)\n",
    "                        self.str_probabilities[cls][word] = f'{df_bag_cls[word].sum()}/{len(words_cls)}'\n",
    "                        \n",
    "            print(f'\\n=====================================================================================\\n')\n",
    "            "
   ]
  },
  {
   "cell_type": "markdown",
   "id": "ffc936b3",
   "metadata": {},
   "source": [
    "## Bag of Words : Multinomial"
   ]
  },
  {
   "cell_type": "code",
   "execution_count": 153,
   "id": "411781a6",
   "metadata": {},
   "outputs": [
    {
     "name": "stdout",
     "output_type": "stream",
     "text": [
      "Class priors:\n",
      " p(y=No)  p(y=Yes)\n",
      "    0.25      0.75\n",
      "Data:\n"
     ]
    },
    {
     "data": {
      "text/html": [
       "<div>\n",
       "<style scoped>\n",
       "    .dataframe tbody tr th:only-of-type {\n",
       "        vertical-align: middle;\n",
       "    }\n",
       "\n",
       "    .dataframe tbody tr th {\n",
       "        vertical-align: top;\n",
       "    }\n",
       "\n",
       "    .dataframe thead th {\n",
       "        text-align: right;\n",
       "    }\n",
       "</style>\n",
       "<table border=\"1\" class=\"dataframe\">\n",
       "  <thead>\n",
       "    <tr style=\"text-align: right;\">\n",
       "      <th></th>\n",
       "      <th>Shanghai</th>\n",
       "      <th>Beijing</th>\n",
       "      <th>Macau</th>\n",
       "      <th>Chinese</th>\n",
       "      <th>Japan</th>\n",
       "      <th>Tokyo</th>\n",
       "      <th>Class(Y)</th>\n",
       "    </tr>\n",
       "  </thead>\n",
       "  <tbody>\n",
       "    <tr>\n",
       "      <th>Chinese Beijing Chinese</th>\n",
       "      <td>0</td>\n",
       "      <td>1</td>\n",
       "      <td>0</td>\n",
       "      <td>2</td>\n",
       "      <td>0</td>\n",
       "      <td>0</td>\n",
       "      <td>Yes</td>\n",
       "    </tr>\n",
       "    <tr>\n",
       "      <th>Chinese Chinese Shanghai</th>\n",
       "      <td>1</td>\n",
       "      <td>0</td>\n",
       "      <td>0</td>\n",
       "      <td>2</td>\n",
       "      <td>0</td>\n",
       "      <td>0</td>\n",
       "      <td>Yes</td>\n",
       "    </tr>\n",
       "    <tr>\n",
       "      <th>Chinese Macau</th>\n",
       "      <td>0</td>\n",
       "      <td>0</td>\n",
       "      <td>1</td>\n",
       "      <td>1</td>\n",
       "      <td>0</td>\n",
       "      <td>0</td>\n",
       "      <td>Yes</td>\n",
       "    </tr>\n",
       "    <tr>\n",
       "      <th>Tokyo Japan Chinese</th>\n",
       "      <td>0</td>\n",
       "      <td>0</td>\n",
       "      <td>0</td>\n",
       "      <td>1</td>\n",
       "      <td>1</td>\n",
       "      <td>1</td>\n",
       "      <td>No</td>\n",
       "    </tr>\n",
       "  </tbody>\n",
       "</table>\n",
       "</div>"
      ],
      "text/plain": [
       "                          Shanghai  Beijing  Macau  Chinese  Japan  Tokyo  \\\n",
       "Chinese Beijing Chinese          0        1      0        2      0      0   \n",
       "Chinese Chinese Shanghai         1        0      0        2      0      0   \n",
       "Chinese Macau                    0        0      1        1      0      0   \n",
       "Tokyo Japan Chinese              0        0      0        1      1      1   \n",
       "\n",
       "                         Class(Y)  \n",
       "Chinese Beijing Chinese       Yes  \n",
       "Chinese Chinese Shanghai      Yes  \n",
       "Chinese Macau                 Yes  \n",
       "Tokyo Japan Chinese            No  "
      ]
     },
     "metadata": {},
     "output_type": "display_data"
    },
    {
     "name": "stdout",
     "output_type": "stream",
     "text": [
      "==================================================================================\n",
      "\n",
      "\n",
      "For Y = No\n"
     ]
    },
    {
     "data": {
      "text/html": [
       "<div>\n",
       "<style scoped>\n",
       "    .dataframe tbody tr th:only-of-type {\n",
       "        vertical-align: middle;\n",
       "    }\n",
       "\n",
       "    .dataframe tbody tr th {\n",
       "        vertical-align: top;\n",
       "    }\n",
       "\n",
       "    .dataframe thead th {\n",
       "        text-align: right;\n",
       "    }\n",
       "</style>\n",
       "<table border=\"1\" class=\"dataframe\">\n",
       "  <thead>\n",
       "    <tr style=\"text-align: right;\">\n",
       "      <th></th>\n",
       "      <th>Shanghai</th>\n",
       "      <th>Beijing</th>\n",
       "      <th>Macau</th>\n",
       "      <th>Chinese</th>\n",
       "      <th>Japan</th>\n",
       "      <th>Tokyo</th>\n",
       "      <th>Class(Y)</th>\n",
       "    </tr>\n",
       "  </thead>\n",
       "  <tbody>\n",
       "    <tr>\n",
       "      <th>Tokyo Japan Chinese</th>\n",
       "      <td>0</td>\n",
       "      <td>0</td>\n",
       "      <td>0</td>\n",
       "      <td>1</td>\n",
       "      <td>1</td>\n",
       "      <td>1</td>\n",
       "      <td>No</td>\n",
       "    </tr>\n",
       "  </tbody>\n",
       "</table>\n",
       "</div>"
      ],
      "text/plain": [
       "                     Shanghai  Beijing  Macau  Chinese  Japan  Tokyo Class(Y)\n",
       "Tokyo Japan Chinese         0        0      0        1      1      1       No"
      ]
     },
     "metadata": {},
     "output_type": "display_data"
    },
    {
     "name": "stdout",
     "output_type": "stream",
     "text": [
      "\n",
      "p(Shanghai|y=No) = (0 + 1)/(3 + 6) = 1/9 = 0.1111\n",
      "\n",
      "p(Beijing|y=No) = (0 + 1)/(3 + 6) = 1/9 = 0.1111\n",
      "\n",
      "p(Macau|y=No) = (0 + 1)/(3 + 6) = 1/9 = 0.1111\n",
      "\n",
      "p(Chinese|y=No) = (1 + 1)/(3 + 6) = 2/9 = 0.2222\n",
      "\n",
      "p(Japan|y=No) = (1 + 1)/(3 + 6) = 2/9 = 0.2222\n",
      "\n",
      "p(Tokyo|y=No) = (1 + 1)/(3 + 6) = 2/9 = 0.2222\n",
      "\n",
      "=====================================================================================\n",
      "\n",
      "\n",
      "\n",
      "For Y = Yes\n"
     ]
    },
    {
     "data": {
      "text/html": [
       "<div>\n",
       "<style scoped>\n",
       "    .dataframe tbody tr th:only-of-type {\n",
       "        vertical-align: middle;\n",
       "    }\n",
       "\n",
       "    .dataframe tbody tr th {\n",
       "        vertical-align: top;\n",
       "    }\n",
       "\n",
       "    .dataframe thead th {\n",
       "        text-align: right;\n",
       "    }\n",
       "</style>\n",
       "<table border=\"1\" class=\"dataframe\">\n",
       "  <thead>\n",
       "    <tr style=\"text-align: right;\">\n",
       "      <th></th>\n",
       "      <th>Shanghai</th>\n",
       "      <th>Beijing</th>\n",
       "      <th>Macau</th>\n",
       "      <th>Chinese</th>\n",
       "      <th>Japan</th>\n",
       "      <th>Tokyo</th>\n",
       "      <th>Class(Y)</th>\n",
       "    </tr>\n",
       "  </thead>\n",
       "  <tbody>\n",
       "    <tr>\n",
       "      <th>Chinese Beijing Chinese</th>\n",
       "      <td>0</td>\n",
       "      <td>1</td>\n",
       "      <td>0</td>\n",
       "      <td>2</td>\n",
       "      <td>0</td>\n",
       "      <td>0</td>\n",
       "      <td>Yes</td>\n",
       "    </tr>\n",
       "    <tr>\n",
       "      <th>Chinese Chinese Shanghai</th>\n",
       "      <td>1</td>\n",
       "      <td>0</td>\n",
       "      <td>0</td>\n",
       "      <td>2</td>\n",
       "      <td>0</td>\n",
       "      <td>0</td>\n",
       "      <td>Yes</td>\n",
       "    </tr>\n",
       "    <tr>\n",
       "      <th>Chinese Macau</th>\n",
       "      <td>0</td>\n",
       "      <td>0</td>\n",
       "      <td>1</td>\n",
       "      <td>1</td>\n",
       "      <td>0</td>\n",
       "      <td>0</td>\n",
       "      <td>Yes</td>\n",
       "    </tr>\n",
       "  </tbody>\n",
       "</table>\n",
       "</div>"
      ],
      "text/plain": [
       "                          Shanghai  Beijing  Macau  Chinese  Japan  Tokyo  \\\n",
       "Chinese Beijing Chinese          0        1      0        2      0      0   \n",
       "Chinese Chinese Shanghai         1        0      0        2      0      0   \n",
       "Chinese Macau                    0        0      1        1      0      0   \n",
       "\n",
       "                         Class(Y)  \n",
       "Chinese Beijing Chinese       Yes  \n",
       "Chinese Chinese Shanghai      Yes  \n",
       "Chinese Macau                 Yes  "
      ]
     },
     "metadata": {},
     "output_type": "display_data"
    },
    {
     "name": "stdout",
     "output_type": "stream",
     "text": [
      "\n",
      "p(Shanghai|y=Yes) = (1 + 1)/(8 + 6) = 2/14 = 0.1429\n",
      "\n",
      "p(Beijing|y=Yes) = (1 + 1)/(8 + 6) = 2/14 = 0.1429\n",
      "\n",
      "p(Macau|y=Yes) = (1 + 1)/(8 + 6) = 2/14 = 0.1429\n",
      "\n",
      "p(Chinese|y=Yes) = (5 + 1)/(8 + 6) = 6/14 = 0.4286\n",
      "\n",
      "p(Japan|y=Yes) = (0 + 1)/(8 + 6) = 1/14 = 0.0714\n",
      "\n",
      "p(Tokyo|y=Yes) = (0 + 1)/(8 + 6) = 1/14 = 0.0714\n",
      "\n",
      "=====================================================================================\n",
      "\n"
     ]
    }
   ],
   "source": [
    "model = NaiveBayes(model = 'multi', smoothing = True)\n",
    "model.fit(X=['Chinese Beijing Chinese ', 'Chinese Chinese Shanghai', 'Chinese Macau', 'Tokyo Japan Chinese',\n",
    "                    ],\n",
    "                 y=['Yes','Yes','Yes','No'])"
   ]
  },
  {
   "cell_type": "code",
   "execution_count": 154,
   "id": "9908b49b",
   "metadata": {},
   "outputs": [
    {
     "name": "stdout",
     "output_type": "stream",
     "text": [
      "Test Document, D = Chinese Chinese Chinese Tokyo Japan\n",
      "\n",
      "Using\n"
     ]
    },
    {
     "data": {
      "text/latex": [
       "$\\displaystyle P(C_{k}|D)∝ P(X|C_{k})P(C_{k}))$"
      ],
      "text/plain": [
       "P(C_{k}|D)∝ P(X|C_{k})P(C_{k}))"
      ]
     },
     "metadata": {},
     "output_type": "display_data"
    },
    {
     "data": {
      "text/latex": [
       "$\\displaystyle P(C_{k}|D)∝ P(C_{k})∏_{j=1}^{len(X)} P(u_j|C_k)$"
      ],
      "text/plain": [
       "P(C_{k}|D)∝ P(C_{k})∏_{j=1}^{len(X)} P(u_j|C_k)"
      ]
     },
     "metadata": {},
     "output_type": "display_data"
    },
    {
     "name": "stdout",
     "output_type": "stream",
     "text": [
      "where u - each word in test document X\n",
      "\n",
      "P(y=No|X) ∝ p(y=No)*P(Chinese|y=No)*P(Chinese|y=No)*P(Chinese|y=No)*P(Tokyo|y=No)*P(Japan|y=No)\n",
      "P(y=No|X) ∝ 0.25*2/9*2/9*2/9*2/9*2/9\n",
      "= 0.0001\n",
      "=========================================================\n",
      "\n",
      "P(y=Yes|X) ∝ p(y=Yes)*P(Chinese|y=Yes)*P(Chinese|y=Yes)*P(Chinese|y=Yes)*P(Tokyo|y=Yes)*P(Japan|y=Yes)\n",
      "P(y=Yes|X) ∝ 0.75*6/14*6/14*6/14*1/14*1/14\n",
      "= 0.0003\n",
      "=========================================================\n",
      "\n",
      "The test document D belongs to class y = Yes\n"
     ]
    }
   ],
   "source": [
    "model.predict('Chinese Chinese Chinese Tokyo Japan')"
   ]
  },
  {
   "cell_type": "markdown",
   "id": "d8cfc3fd",
   "metadata": {},
   "source": [
    "## Bag of Words : Bernoulli"
   ]
  },
  {
   "cell_type": "code",
   "execution_count": 155,
   "id": "b71c8abe",
   "metadata": {},
   "outputs": [
    {
     "name": "stdout",
     "output_type": "stream",
     "text": [
      "Class priors:\n",
      " p(y=No)  p(y=Yes)\n",
      "    0.25      0.75\n",
      "Data:\n"
     ]
    },
    {
     "data": {
      "text/html": [
       "<div>\n",
       "<style scoped>\n",
       "    .dataframe tbody tr th:only-of-type {\n",
       "        vertical-align: middle;\n",
       "    }\n",
       "\n",
       "    .dataframe tbody tr th {\n",
       "        vertical-align: top;\n",
       "    }\n",
       "\n",
       "    .dataframe thead th {\n",
       "        text-align: right;\n",
       "    }\n",
       "</style>\n",
       "<table border=\"1\" class=\"dataframe\">\n",
       "  <thead>\n",
       "    <tr style=\"text-align: right;\">\n",
       "      <th></th>\n",
       "      <th>Shanghai</th>\n",
       "      <th>Beijing</th>\n",
       "      <th>Macau</th>\n",
       "      <th>Chinese</th>\n",
       "      <th>Japan</th>\n",
       "      <th>Tokyo</th>\n",
       "      <th>Class(Y)</th>\n",
       "    </tr>\n",
       "  </thead>\n",
       "  <tbody>\n",
       "    <tr>\n",
       "      <th>Chinese Beijing Chinese</th>\n",
       "      <td>0</td>\n",
       "      <td>1</td>\n",
       "      <td>0</td>\n",
       "      <td>1</td>\n",
       "      <td>0</td>\n",
       "      <td>0</td>\n",
       "      <td>Yes</td>\n",
       "    </tr>\n",
       "    <tr>\n",
       "      <th>Chinese Chinese Shanghai</th>\n",
       "      <td>1</td>\n",
       "      <td>0</td>\n",
       "      <td>0</td>\n",
       "      <td>1</td>\n",
       "      <td>0</td>\n",
       "      <td>0</td>\n",
       "      <td>Yes</td>\n",
       "    </tr>\n",
       "    <tr>\n",
       "      <th>Chinese Macau</th>\n",
       "      <td>0</td>\n",
       "      <td>0</td>\n",
       "      <td>1</td>\n",
       "      <td>1</td>\n",
       "      <td>0</td>\n",
       "      <td>0</td>\n",
       "      <td>Yes</td>\n",
       "    </tr>\n",
       "    <tr>\n",
       "      <th>Tokyo Japan Chinese</th>\n",
       "      <td>0</td>\n",
       "      <td>0</td>\n",
       "      <td>0</td>\n",
       "      <td>1</td>\n",
       "      <td>1</td>\n",
       "      <td>1</td>\n",
       "      <td>No</td>\n",
       "    </tr>\n",
       "  </tbody>\n",
       "</table>\n",
       "</div>"
      ],
      "text/plain": [
       "                          Shanghai  Beijing  Macau  Chinese  Japan  Tokyo  \\\n",
       "Chinese Beijing Chinese          0        1      0        1      0      0   \n",
       "Chinese Chinese Shanghai         1        0      0        1      0      0   \n",
       "Chinese Macau                    0        0      1        1      0      0   \n",
       "Tokyo Japan Chinese              0        0      0        1      1      1   \n",
       "\n",
       "                         Class(Y)  \n",
       "Chinese Beijing Chinese       Yes  \n",
       "Chinese Chinese Shanghai      Yes  \n",
       "Chinese Macau                 Yes  \n",
       "Tokyo Japan Chinese            No  "
      ]
     },
     "metadata": {},
     "output_type": "display_data"
    },
    {
     "name": "stdout",
     "output_type": "stream",
     "text": [
      "==================================================================================\n",
      "\n",
      "\n",
      "For Y = No\n"
     ]
    },
    {
     "data": {
      "text/html": [
       "<div>\n",
       "<style scoped>\n",
       "    .dataframe tbody tr th:only-of-type {\n",
       "        vertical-align: middle;\n",
       "    }\n",
       "\n",
       "    .dataframe tbody tr th {\n",
       "        vertical-align: top;\n",
       "    }\n",
       "\n",
       "    .dataframe thead th {\n",
       "        text-align: right;\n",
       "    }\n",
       "</style>\n",
       "<table border=\"1\" class=\"dataframe\">\n",
       "  <thead>\n",
       "    <tr style=\"text-align: right;\">\n",
       "      <th></th>\n",
       "      <th>Shanghai</th>\n",
       "      <th>Beijing</th>\n",
       "      <th>Macau</th>\n",
       "      <th>Chinese</th>\n",
       "      <th>Japan</th>\n",
       "      <th>Tokyo</th>\n",
       "      <th>Class(Y)</th>\n",
       "    </tr>\n",
       "  </thead>\n",
       "  <tbody>\n",
       "    <tr>\n",
       "      <th>Tokyo Japan Chinese</th>\n",
       "      <td>0</td>\n",
       "      <td>0</td>\n",
       "      <td>0</td>\n",
       "      <td>1</td>\n",
       "      <td>1</td>\n",
       "      <td>1</td>\n",
       "      <td>No</td>\n",
       "    </tr>\n",
       "  </tbody>\n",
       "</table>\n",
       "</div>"
      ],
      "text/plain": [
       "                     Shanghai  Beijing  Macau  Chinese  Japan  Tokyo Class(Y)\n",
       "Tokyo Japan Chinese         0        0      0        1      1      1       No"
      ]
     },
     "metadata": {},
     "output_type": "display_data"
    },
    {
     "name": "stdout",
     "output_type": "stream",
     "text": [
      "\n",
      "p(Shanghai|y=No) = (0 + 1)/(1 + 2) = 1/3 = 0.3333\n",
      "\n",
      "p(Beijing|y=No) = (0 + 1)/(1 + 2) = 1/3 = 0.3333\n",
      "\n",
      "p(Macau|y=No) = (0 + 1)/(1 + 2) = 1/3 = 0.3333\n",
      "\n",
      "p(Chinese|y=No) = (1 + 1)/(1 + 2) = 2/3 = 0.6667\n",
      "\n",
      "p(Japan|y=No) = (1 + 1)/(1 + 2) = 2/3 = 0.6667\n",
      "\n",
      "p(Tokyo|y=No) = (1 + 1)/(1 + 2) = 2/3 = 0.6667\n",
      "\n",
      "=====================================================================================\n",
      "\n",
      "\n",
      "\n",
      "For Y = Yes\n"
     ]
    },
    {
     "data": {
      "text/html": [
       "<div>\n",
       "<style scoped>\n",
       "    .dataframe tbody tr th:only-of-type {\n",
       "        vertical-align: middle;\n",
       "    }\n",
       "\n",
       "    .dataframe tbody tr th {\n",
       "        vertical-align: top;\n",
       "    }\n",
       "\n",
       "    .dataframe thead th {\n",
       "        text-align: right;\n",
       "    }\n",
       "</style>\n",
       "<table border=\"1\" class=\"dataframe\">\n",
       "  <thead>\n",
       "    <tr style=\"text-align: right;\">\n",
       "      <th></th>\n",
       "      <th>Shanghai</th>\n",
       "      <th>Beijing</th>\n",
       "      <th>Macau</th>\n",
       "      <th>Chinese</th>\n",
       "      <th>Japan</th>\n",
       "      <th>Tokyo</th>\n",
       "      <th>Class(Y)</th>\n",
       "    </tr>\n",
       "  </thead>\n",
       "  <tbody>\n",
       "    <tr>\n",
       "      <th>Chinese Beijing Chinese</th>\n",
       "      <td>0</td>\n",
       "      <td>1</td>\n",
       "      <td>0</td>\n",
       "      <td>1</td>\n",
       "      <td>0</td>\n",
       "      <td>0</td>\n",
       "      <td>Yes</td>\n",
       "    </tr>\n",
       "    <tr>\n",
       "      <th>Chinese Chinese Shanghai</th>\n",
       "      <td>1</td>\n",
       "      <td>0</td>\n",
       "      <td>0</td>\n",
       "      <td>1</td>\n",
       "      <td>0</td>\n",
       "      <td>0</td>\n",
       "      <td>Yes</td>\n",
       "    </tr>\n",
       "    <tr>\n",
       "      <th>Chinese Macau</th>\n",
       "      <td>0</td>\n",
       "      <td>0</td>\n",
       "      <td>1</td>\n",
       "      <td>1</td>\n",
       "      <td>0</td>\n",
       "      <td>0</td>\n",
       "      <td>Yes</td>\n",
       "    </tr>\n",
       "  </tbody>\n",
       "</table>\n",
       "</div>"
      ],
      "text/plain": [
       "                          Shanghai  Beijing  Macau  Chinese  Japan  Tokyo  \\\n",
       "Chinese Beijing Chinese          0        1      0        1      0      0   \n",
       "Chinese Chinese Shanghai         1        0      0        1      0      0   \n",
       "Chinese Macau                    0        0      1        1      0      0   \n",
       "\n",
       "                         Class(Y)  \n",
       "Chinese Beijing Chinese       Yes  \n",
       "Chinese Chinese Shanghai      Yes  \n",
       "Chinese Macau                 Yes  "
      ]
     },
     "metadata": {},
     "output_type": "display_data"
    },
    {
     "name": "stdout",
     "output_type": "stream",
     "text": [
      "\n",
      "p(Shanghai|y=Yes) = (1 + 1)/(3 + 2) = 2/5 = 0.4\n",
      "\n",
      "p(Beijing|y=Yes) = (1 + 1)/(3 + 2) = 2/5 = 0.4\n",
      "\n",
      "p(Macau|y=Yes) = (1 + 1)/(3 + 2) = 2/5 = 0.4\n",
      "\n",
      "p(Chinese|y=Yes) = (3 + 1)/(3 + 2) = 4/5 = 0.8\n",
      "\n",
      "p(Japan|y=Yes) = (0 + 1)/(3 + 2) = 1/5 = 0.2\n",
      "\n",
      "p(Tokyo|y=Yes) = (0 + 1)/(3 + 2) = 1/5 = 0.2\n",
      "\n",
      "=====================================================================================\n",
      "\n"
     ]
    }
   ],
   "source": [
    "model = NaiveBayes(model = 'bernoulli', smoothing = True)\n",
    "model.fit(X=['Chinese Beijing Chinese ', 'Chinese Chinese Shanghai', 'Chinese Macau', 'Tokyo Japan Chinese',\n",
    "                    ],\n",
    "                 y=['Yes','Yes','Yes','No'])"
   ]
  },
  {
   "cell_type": "code",
   "execution_count": 156,
   "id": "074c24a7",
   "metadata": {},
   "outputs": [
    {
     "name": "stdout",
     "output_type": "stream",
     "text": [
      "Test Document, D = Chinese Chinese Chinese Tokyo Japan\n",
      "\n",
      "Using\n"
     ]
    },
    {
     "data": {
      "text/latex": [
       "$\\displaystyle P(C_{k}|b)∝ P(X|C_{k})P(C_{k}))$"
      ],
      "text/plain": [
       "P(C_{k}|b)∝ P(X|C_{k})P(C_{k}))"
      ]
     },
     "metadata": {},
     "output_type": "display_data"
    },
    {
     "data": {
      "text/latex": [
       "$\\displaystyle P(C_{k}|b)∝ P(C_{k})∏_{t=1}^{|V|} [b_tP(w_t|C_k) + (1-b_t)(1-P(w_t|C_k))]$"
      ],
      "text/plain": [
       "P(C_{k}|b)∝ P(C_{k})∏_{t=1}^{|V|} [b_tP(w_t|C_k) + (1-b_t)(1-P(w_t|C_k))]"
      ]
     },
     "metadata": {},
     "output_type": "display_data"
    },
    {
     "name": "stdout",
     "output_type": "stream",
     "text": [
      "where b= feature vector of document D \n",
      "bₜ = {0,1} => abscence or presence of word wₜ in the document\n",
      "b = [0, 0, 0, 1, 1, 1]\n",
      "\n",
      "P(y=No|b) ∝ 0.25*(1 - 1/3)*(1 - 1/3)*(1 - 1/3)*2/3*2/3*2/3\n",
      "= 0.022\n",
      "=========================================================\n",
      "\n",
      "P(y=Yes|b) ∝ 0.75*(1 - 2/5)*(1 - 2/5)*(1 - 2/5)*4/5*1/5*1/5\n",
      "= 0.0052\n",
      "=========================================================\n",
      "\n",
      "The test document D belongs to class y = No\n"
     ]
    }
   ],
   "source": [
    "model.predict('Chinese Chinese Chinese Tokyo Japan')"
   ]
  },
  {
   "cell_type": "code",
   "execution_count": null,
   "id": "dae8108a",
   "metadata": {},
   "outputs": [],
   "source": []
  },
  {
   "cell_type": "code",
   "execution_count": null,
   "id": "c86fbd73",
   "metadata": {},
   "outputs": [],
   "source": []
  }
 ],
 "metadata": {
  "kernelspec": {
   "display_name": "Python 3 (ipykernel)",
   "language": "python",
   "name": "python3"
  },
  "language_info": {
   "codemirror_mode": {
    "name": "ipython",
    "version": 3
   },
   "file_extension": ".py",
   "mimetype": "text/x-python",
   "name": "python",
   "nbconvert_exporter": "python",
   "pygments_lexer": "ipython3",
   "version": "3.7.6"
  }
 },
 "nbformat": 4,
 "nbformat_minor": 5
}
